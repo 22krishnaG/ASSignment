{
 "cells": [
  {
   "cell_type": "markdown",
   "id": "39b78dc1-a4f2-4f40-bac0-2403f76a338e",
   "metadata": {},
   "source": [
    "## TUPLES()"
   ]
  },
  {
   "cell_type": "code",
   "execution_count": 2,
   "id": "774a1aa3-0934-4baf-971c-fbe31170ac68",
   "metadata": {},
   "outputs": [],
   "source": [
    "t = (2,3,4,5,\"krish\",34.54543,False,45+89j,[43,5,7])"
   ]
  },
  {
   "cell_type": "code",
   "execution_count": 3,
   "id": "cc305b82-3efc-4d57-82cf-a7f72bb90748",
   "metadata": {},
   "outputs": [
    {
     "data": {
      "text/plain": [
       "tuple"
      ]
     },
     "execution_count": 3,
     "metadata": {},
     "output_type": "execute_result"
    }
   ],
   "source": [
    "type(t)"
   ]
  },
  {
   "cell_type": "code",
   "execution_count": 4,
   "id": "94668814-1d47-4224-9884-462a8d98aea6",
   "metadata": {},
   "outputs": [
    {
     "data": {
      "text/plain": [
       "9"
      ]
     },
     "execution_count": 4,
     "metadata": {},
     "output_type": "execute_result"
    }
   ],
   "source": [
    "len(t)"
   ]
  },
  {
   "cell_type": "code",
   "execution_count": 6,
   "id": "e110c180-39f2-4a66-b7a1-fd65af1c73a4",
   "metadata": {},
   "outputs": [
    {
     "data": {
      "text/plain": [
       "2"
      ]
     },
     "execution_count": 6,
     "metadata": {},
     "output_type": "execute_result"
    }
   ],
   "source": [
    "t[0]"
   ]
  },
  {
   "cell_type": "code",
   "execution_count": 7,
   "id": "e3e6e9d6-ea8c-4e31-9eb6-800f83902673",
   "metadata": {},
   "outputs": [
    {
     "data": {
      "text/plain": [
       "[43, 5, 7]"
      ]
     },
     "execution_count": 7,
     "metadata": {},
     "output_type": "execute_result"
    }
   ],
   "source": [
    "t[-1]"
   ]
  },
  {
   "cell_type": "code",
   "execution_count": 8,
   "id": "1c0a20ac-d446-4741-b960-9ab53730a5a8",
   "metadata": {},
   "outputs": [
    {
     "data": {
      "text/plain": [
       "([43, 5, 7], (45+89j), False, 34.54543, 'krish', 5, 4, 3, 2)"
      ]
     },
     "execution_count": 8,
     "metadata": {},
     "output_type": "execute_result"
    }
   ],
   "source": [
    "t[::-1]"
   ]
  },
  {
   "cell_type": "code",
   "execution_count": 10,
   "id": "81cb5b53-c4d5-406a-9017-b800bb191ce6",
   "metadata": {},
   "outputs": [],
   "source": [
    "l1=[354,56,6,7,4324.43,\"krish\"]"
   ]
  },
  {
   "cell_type": "code",
   "execution_count": 12,
   "id": "e7937e78-1a9c-4832-aad5-537dd415d8f3",
   "metadata": {},
   "outputs": [
    {
     "data": {
      "text/plain": [
       "list"
      ]
     },
     "execution_count": 12,
     "metadata": {},
     "output_type": "execute_result"
    }
   ],
   "source": [
    "type(l1)"
   ]
  },
  {
   "cell_type": "code",
   "execution_count": 14,
   "id": "ef848bd5-f649-49bf-bb8f-a7f539f5e444",
   "metadata": {},
   "outputs": [],
   "source": [
    "l1[0] = 3455"
   ]
  },
  {
   "cell_type": "code",
   "execution_count": 15,
   "id": "3d91eb6b-1bb2-436c-acbe-3eb9905be839",
   "metadata": {},
   "outputs": [
    {
     "data": {
      "text/plain": [
       "[3455, 56, 6, 7, 4324.43, 'krish']"
      ]
     },
     "execution_count": 15,
     "metadata": {},
     "output_type": "execute_result"
    }
   ],
   "source": [
    "l1"
   ]
  },
  {
   "cell_type": "code",
   "execution_count": 16,
   "id": "757436d7-974d-4757-999c-1c48ff6f3934",
   "metadata": {},
   "outputs": [
    {
     "data": {
      "text/plain": [
       "(2, 3, 4, 5, 'krish', 34.54543, False, (45+89j), [43, 5, 7])"
      ]
     },
     "execution_count": 16,
     "metadata": {},
     "output_type": "execute_result"
    }
   ],
   "source": [
    "t"
   ]
  },
  {
   "cell_type": "code",
   "execution_count": 17,
   "id": "2a390d79-838c-4a9a-9f3a-9793e5c246bd",
   "metadata": {},
   "outputs": [
    {
     "ename": "TypeError",
     "evalue": "'tuple' object does not support item assignment",
     "output_type": "error",
     "traceback": [
      "\u001b[0;31m---------------------------------------------------------------------------\u001b[0m",
      "\u001b[0;31mTypeError\u001b[0m                                 Traceback (most recent call last)",
      "Cell \u001b[0;32mIn[17], line 1\u001b[0m\n\u001b[0;32m----> 1\u001b[0m \u001b[43mt\u001b[49m\u001b[43m[\u001b[49m\u001b[38;5;241;43m0\u001b[39;49m\u001b[43m]\u001b[49m \u001b[38;5;241m=\u001b[39m \u001b[38;5;124m\"\u001b[39m\u001b[38;5;124mkrish\u001b[39m\u001b[38;5;124m\"\u001b[39m\n",
      "\u001b[0;31mTypeError\u001b[0m: 'tuple' object does not support item assignment"
     ]
    }
   ],
   "source": [
    "t[0] = \"krish\""
   ]
  },
  {
   "cell_type": "markdown",
   "id": "220f13cc-0af5-495b-b059-ed557d230e07",
   "metadata": {},
   "source": [
    "typle are immutable and list are mutable "
   ]
  },
  {
   "cell_type": "code",
   "execution_count": 18,
   "id": "0be38979-c3e8-4620-ac49-55cd04eff224",
   "metadata": {},
   "outputs": [
    {
     "data": {
      "text/plain": [
       "(2, 3, 4, 5, 'krish', 34.54543, False, (45+89j))"
      ]
     },
     "execution_count": 18,
     "metadata": {},
     "output_type": "execute_result"
    }
   ],
   "source": [
    "t[:-1]"
   ]
  },
  {
   "cell_type": "code",
   "execution_count": 19,
   "id": "4f3e22b5-e57f-4dc4-bc69-414727312633",
   "metadata": {},
   "outputs": [
    {
     "data": {
      "text/plain": [
       "0"
      ]
     },
     "execution_count": 19,
     "metadata": {},
     "output_type": "execute_result"
    }
   ],
   "source": [
    "t.count(50)"
   ]
  },
  {
   "cell_type": "code",
   "execution_count": 21,
   "id": "1a7158aa-fd59-4646-bf1a-ee50a7017f66",
   "metadata": {},
   "outputs": [
    {
     "data": {
      "text/plain": [
       "6"
      ]
     },
     "execution_count": 21,
     "metadata": {},
     "output_type": "execute_result"
    }
   ],
   "source": [
    "t.index(False)"
   ]
  },
  {
   "cell_type": "code",
   "execution_count": 22,
   "id": "f2e63b0c-5c53-4900-9ecc-da9e25f55ec6",
   "metadata": {},
   "outputs": [
    {
     "data": {
      "text/plain": [
       "(2, 3, 4, 5, 'krish', 34.54543, False, (45+89j), [43, 5, 7])"
      ]
     },
     "execution_count": 22,
     "metadata": {},
     "output_type": "execute_result"
    }
   ],
   "source": [
    "t"
   ]
  },
  {
   "cell_type": "code",
   "execution_count": 23,
   "id": "7963e5b1-b8cb-4d45-832d-c1998b23e07a",
   "metadata": {},
   "outputs": [],
   "source": [
    "s1 = {}"
   ]
  },
  {
   "cell_type": "code",
   "execution_count": 24,
   "id": "fa29730e-e9a7-4103-87b7-c972b48aa454",
   "metadata": {},
   "outputs": [
    {
     "data": {
      "text/plain": [
       "dict"
      ]
     },
     "execution_count": 24,
     "metadata": {},
     "output_type": "execute_result"
    }
   ],
   "source": [
    "type(s1)"
   ]
  },
  {
   "cell_type": "markdown",
   "id": "dcbb0012-81ca-4ae5-8f7a-e12133cdf77d",
   "metadata": {},
   "source": [
    "# SET"
   ]
  },
  {
   "cell_type": "code",
   "execution_count": 25,
   "id": "f0991f36-2baf-4a69-9c6c-2abae13280dd",
   "metadata": {},
   "outputs": [],
   "source": [
    "s2={2,3,4,55,6}"
   ]
  },
  {
   "cell_type": "code",
   "execution_count": 26,
   "id": "3bef390d-79ca-4b78-9de3-c4c35e30d2cc",
   "metadata": {},
   "outputs": [
    {
     "data": {
      "text/plain": [
       "set"
      ]
     },
     "execution_count": 26,
     "metadata": {},
     "output_type": "execute_result"
    }
   ],
   "source": [
    "type(s2)"
   ]
  },
  {
   "cell_type": "code",
   "execution_count": 27,
   "id": "0c415c5c-a97e-4077-8cdb-ac001321bed7",
   "metadata": {},
   "outputs": [],
   "source": [
    "s3 = {325,3455,542,\"krish\",45+89j,45.6578,(4,6,7)}"
   ]
  },
  {
   "cell_type": "code",
   "execution_count": 28,
   "id": "69341eb1-3144-43f2-954c-1adeef1ad5c6",
   "metadata": {},
   "outputs": [
    {
     "data": {
      "text/plain": [
       "{(4, 6, 7), (45+89j), 325, 3455, 45.6578, 542, 'krish'}"
      ]
     },
     "execution_count": 28,
     "metadata": {},
     "output_type": "execute_result"
    }
   ],
   "source": [
    "s3"
   ]
  },
  {
   "cell_type": "code",
   "execution_count": 29,
   "id": "d06df355-888c-4d40-8402-b8732d38ca11",
   "metadata": {},
   "outputs": [
    {
     "data": {
      "text/plain": [
       "set"
      ]
     },
     "execution_count": 29,
     "metadata": {},
     "output_type": "execute_result"
    }
   ],
   "source": [
    "type(s3)"
   ]
  },
  {
   "cell_type": "code",
   "execution_count": 32,
   "id": "58ff4e7c-9e3f-4304-8eb2-8631e23fd24c",
   "metadata": {},
   "outputs": [],
   "source": [
    "s4 = {2,3,4,2,3,4,6,5,6,5,3,2,4,6,7,8,9,2,3,'KRish\",''krish'}"
   ]
  },
  {
   "cell_type": "code",
   "execution_count": 33,
   "id": "ee5d561a-82b3-4773-84dd-996820110380",
   "metadata": {},
   "outputs": [
    {
     "data": {
      "text/plain": [
       "{2, 3, 4, 5, 6, 7, 8, 9, 'KRish\",krish'}"
      ]
     },
     "execution_count": 33,
     "metadata": {},
     "output_type": "execute_result"
    }
   ],
   "source": [
    "s4"
   ]
  },
  {
   "cell_type": "code",
   "execution_count": 39,
   "id": "6228e06e-79a2-4eaa-b6d3-d2f950f97fac",
   "metadata": {},
   "outputs": [],
   "source": [
    "l6 = [2,3,4,2,3,4,6,5,6,5,3,2,4,6,7,8,9,2,3,'KRish\",''krish']"
   ]
  },
  {
   "cell_type": "code",
   "execution_count": 40,
   "id": "0c85a40d-eb03-41dd-8e4c-e33874f7b9e7",
   "metadata": {},
   "outputs": [
    {
     "data": {
      "text/plain": [
       "list"
      ]
     },
     "execution_count": 40,
     "metadata": {},
     "output_type": "execute_result"
    }
   ],
   "source": [
    "type(l6)"
   ]
  },
  {
   "cell_type": "code",
   "execution_count": 41,
   "id": "d0e507c3-23bd-45d9-bbb4-555fdc176bef",
   "metadata": {},
   "outputs": [],
   "source": [
    "l6 = set(l6)"
   ]
  },
  {
   "cell_type": "code",
   "execution_count": 42,
   "id": "7d808a6d-0ce6-45cb-999c-7c3332458423",
   "metadata": {},
   "outputs": [
    {
     "data": {
      "text/plain": [
       "set"
      ]
     },
     "execution_count": 42,
     "metadata": {},
     "output_type": "execute_result"
    }
   ],
   "source": [
    "type(l6)"
   ]
  },
  {
   "cell_type": "code",
   "execution_count": 43,
   "id": "16e872ae-d9d8-40b7-82bf-2bac6949b53e",
   "metadata": {},
   "outputs": [],
   "source": [
    "l6=list(set(l6))"
   ]
  },
  {
   "cell_type": "code",
   "execution_count": 44,
   "id": "f9164991-081e-4ccc-8a80-13d0a9d119a0",
   "metadata": {},
   "outputs": [
    {
     "data": {
      "text/plain": [
       "[2, 3, 4, 5, 6, 7, 8, 9, 'KRish\",krish']"
      ]
     },
     "execution_count": 44,
     "metadata": {},
     "output_type": "execute_result"
    }
   ],
   "source": [
    "l6"
   ]
  },
  {
   "cell_type": "code",
   "execution_count": 45,
   "id": "5ae868cd-db04-4c8b-a4be-e4cbcaf8a5c5",
   "metadata": {},
   "outputs": [
    {
     "data": {
      "text/plain": [
       "list"
      ]
     },
     "execution_count": 45,
     "metadata": {},
     "output_type": "execute_result"
    }
   ],
   "source": [
    "type(l6)"
   ]
  },
  {
   "cell_type": "code",
   "execution_count": 46,
   "id": "46898b44-42c2-4eb1-b488-1d0591c903e6",
   "metadata": {},
   "outputs": [
    {
     "data": {
      "text/plain": [
       "[2, 3, 4, 5, 6, 7, 8, 9, 'KRish\",krish']"
      ]
     },
     "execution_count": 46,
     "metadata": {},
     "output_type": "execute_result"
    }
   ],
   "source": [
    "l6"
   ]
  },
  {
   "cell_type": "code",
   "execution_count": 48,
   "id": "7dea06fc-4287-4df1-a966-6e12386895b4",
   "metadata": {},
   "outputs": [],
   "source": [
    "s5 = {345,45,23,45,2,6436,6,5,\"abc\",2435,454,23}"
   ]
  },
  {
   "cell_type": "code",
   "execution_count": 49,
   "id": "ff8e839d-2866-4dbe-8299-dbd7680f81e2",
   "metadata": {},
   "outputs": [
    {
     "data": {
      "text/plain": [
       "{2, 23, 2435, 345, 45, 454, 5, 6, 6436, 'abc'}"
      ]
     },
     "execution_count": 49,
     "metadata": {},
     "output_type": "execute_result"
    }
   ],
   "source": [
    "s5"
   ]
  },
  {
   "cell_type": "code",
   "execution_count": 50,
   "id": "c6fb0643-7051-44af-9d50-e50ab803bd79",
   "metadata": {},
   "outputs": [],
   "source": [
    "s5.add(4)"
   ]
  },
  {
   "cell_type": "code",
   "execution_count": 51,
   "id": "844d4f52-fd52-48be-862e-4606af27bf1d",
   "metadata": {},
   "outputs": [
    {
     "data": {
      "text/plain": [
       "{2, 23, 2435, 345, 4, 45, 454, 5, 6, 6436, 'abc'}"
      ]
     },
     "execution_count": 51,
     "metadata": {},
     "output_type": "execute_result"
    }
   ],
   "source": [
    "s5"
   ]
  },
  {
   "cell_type": "code",
   "execution_count": 52,
   "id": "09628fa1-8c65-41d3-9a78-10214ad938c3",
   "metadata": {},
   "outputs": [],
   "source": [
    "s5.add(4)"
   ]
  },
  {
   "cell_type": "code",
   "execution_count": 53,
   "id": "c6296e92-32bb-4ff9-9fdf-17654135da93",
   "metadata": {},
   "outputs": [
    {
     "data": {
      "text/plain": [
       "{2, 23, 2435, 345, 4, 45, 454, 5, 6, 6436, 'abc'}"
      ]
     },
     "execution_count": 53,
     "metadata": {},
     "output_type": "execute_result"
    }
   ],
   "source": [
    "s5"
   ]
  },
  {
   "cell_type": "markdown",
   "id": "19707bd7-98f6-4487-a0e0-47d454a2d366",
   "metadata": {},
   "source": [
    "### as above us can see that i have added 4 again in aset but while checking s5 there is only one 4 it shows that the set only accept or try keep unique in set "
   ]
  },
  {
   "cell_type": "code",
   "execution_count": 54,
   "id": "e0f8a9c3-ecdd-4f75-9543-342a69ebdbf0",
   "metadata": {},
   "outputs": [],
   "source": [
    "s5.remove(2)"
   ]
  },
  {
   "cell_type": "code",
   "execution_count": 55,
   "id": "28d9deb2-026c-4b0a-a60f-01f3523d7df7",
   "metadata": {},
   "outputs": [
    {
     "data": {
      "text/plain": [
       "{23, 2435, 345, 4, 45, 454, 5, 6, 6436, 'abc'}"
      ]
     },
     "execution_count": 55,
     "metadata": {},
     "output_type": "execute_result"
    }
   ],
   "source": [
    "s5"
   ]
  },
  {
   "cell_type": "code",
   "execution_count": null,
   "id": "6af5d331-5ade-4459-84e9-3ff643798823",
   "metadata": {},
   "outputs": [],
   "source": [
    " "
   ]
  },
  {
   "cell_type": "code",
   "execution_count": null,
   "id": "1c7414d0-e82a-479c-a1e7-d6a1b7b3884c",
   "metadata": {},
   "outputs": [],
   "source": []
  }
 ],
 "metadata": {
  "kernelspec": {
   "display_name": "Python 3 (ipykernel)",
   "language": "python",
   "name": "python3"
  },
  "language_info": {
   "codemirror_mode": {
    "name": "ipython",
    "version": 3
   },
   "file_extension": ".py",
   "mimetype": "text/x-python",
   "name": "python",
   "nbconvert_exporter": "python",
   "pygments_lexer": "ipython3",
   "version": "3.10.8"
  }
 },
 "nbformat": 4,
 "nbformat_minor": 5
}
